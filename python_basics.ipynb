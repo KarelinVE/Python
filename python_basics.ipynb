{
 "cells": [
  {
   "cell_type": "markdown",
   "metadata": {},
   "source": [
    "Задание 1\n",
    "Даны 2 переменных, в которых хранятся строки произвольной длины: phrase_1 и phrase_2.\n",
    "Напишите код, который проверяет какая из этих строк длиннее."
   ]
  },
  {
   "cell_type": "code",
   "execution_count": 49,
   "metadata": {},
   "outputs": [
    {
     "name": "stdout",
     "output_type": "stream",
     "text": [
      "Фраза 1 длиннее фразы 2\n"
     ]
    }
   ],
   "source": [
    "phrase_1 = 'Насколько проще было бы писать программы, если бы не заказчики'\n",
    "phrase_2 = '640Кб должно хватить для любых задач. Билл Гейтс (по легенде)'\n",
    "\n",
    "if len(phrase_1) > len(phrase_2):\n",
    "    print(\"Фраза 1 длиннее фразы 2\")\n",
    "elif len(phrase_1) < len(phrase_2):\n",
    "    print(\"Фраза 2 длиннее фразы 1\")\n",
    "else:\n",
    "    print(\"Фразы равной длины\")"
   ]
  },
  {
   "cell_type": "markdown",
   "metadata": {},
   "source": [
    "Задание 2. \n",
    "Дана переменная, в которой хранится четырехзначное число (год). Необходимо написать программу, которая выведет, является ли данный год високосным или обычным.\n",
    "\n",
    "Пример работы программы:\n",
    "\n",
    "year = 2020\n",
    "Результат:\n",
    "Високосный год\n",
    "\n",
    "year = 2019\n",
    "Результат:\n",
    "Обычный год"
   ]
  },
  {
   "cell_type": "code",
   "execution_count": 95,
   "metadata": {},
   "outputs": [
    {
     "name": "stdout",
     "output_type": "stream",
     "text": [
      "Введите год: 2000\n",
      "Високосный год\n"
     ]
    }
   ],
   "source": [
    "#Чтобы определить, високосный год или нет, надо поделить номер года на 4 (если номер года заканчивается на два нуля, то на 400). \n",
    "#Если делится без остатка, значит год является високосным, а если с остатком - то обычным, невисокосным\n",
    "\n",
    "year = int(input('Введите год: '))\n",
    "if (year % 4 == 0 and year % 400 == 0) or year % 100 != 0:\n",
    "    print('Високосный год')\n",
    "else: \n",
    "    print('Обычный год')"
   ]
  },
  {
   "cell_type": "markdown",
   "metadata": {},
   "source": [
    "Задание 3. \n",
    "Необходимо написать программу, которая будет запрашивать у пользователя месяц и дату рождения и выводить соответствующий знак зодиака."
   ]
  },
  {
   "cell_type": "code",
   "execution_count": 55,
   "metadata": {},
   "outputs": [
    {
     "name": "stdout",
     "output_type": "stream",
     "text": [
      "Введите день: 30\n",
      "Введите месяц: август\n",
      "Ваш знак зодиака: Дева\n"
     ]
    }
   ],
   "source": [
    "day = int(input('Введите день: '))\n",
    "month = input('Введите месяц: ')\n",
    "if day < 1 or day > 31:\n",
    "    print('Вывод: Несуществующий день')\n",
    "else:\n",
    "    if(22 <= day <= 31 and (month == 'Декабрь' or month == 'декабрь')) or (19 >= day >= 1 and (month == 'Январь' or month == 'январь')):\n",
    "        zodiac = 'Козерог'\n",
    "    elif(20 <= day <= 31 and (month == 'Январь' or month == 'январь')) or (19 >= day >= 1 and (month == 'Февраль' or month == 'февраль')):\n",
    "        zodiac = 'Водолей'\n",
    "    elif(20 <= day <= 31 and (month == 'Февраль' or month == 'февраль')) or (21 >= day >= 1 and (month == 'Март' or month == 'март')):\n",
    "        zodiac = 'Рыбы'\n",
    "    elif(22 <= day <= 31 and (month == 'Март' or month == 'март')) or (21 >= day >= 1 and (month == 'Апрель' or month == 'апрель')):\n",
    "        zodiac = 'Овен'\n",
    "    elif(22 <= day <= 31 and (month == 'Апрель' or month == 'апрель')) or (21 >= day >= 1 and (month == 'Май' or month == 'май')):\n",
    "        zodiac = 'Телец'\n",
    "    elif(22 <= day <= 31 and (month == 'Май' or month == 'май')) or (21 >= day >= 1 and (month == 'Июнь' or month == 'июнь')):\n",
    "        zodiac = 'Близнецы'\n",
    "    elif(22 <= day <= 31 and (month == 'Июнь' or month == 'июнь')) or (21 >= day >= 1 and (month == 'Июль' or month == 'июль')):\n",
    "        zodiac = 'Рак'\n",
    "    elif(22 <= day <= 31 and (month == 'Июль' or month == 'июль')) or (21 >= day >= 1 and (month == 'Август' or month == 'август')):\n",
    "        zodiac = 'Лев'\n",
    "    elif(22 <= day <= 31 and (month == 'Август' or month == 'август')) or (21 >= day >= 1 and (month == 'Сентябрь' or month == 'сентябрь')):\n",
    "        zodiac = 'Дева'\n",
    "    elif(22 <= day <= 31 and (month == 'Сентябрь' or month == 'сентябрь')) or (21 >= day >= 1 and (month == 'Октябрь' or month == 'октябрь')):\n",
    "        zodiac = 'Весы'\n",
    "    elif(22 <= day <= 31 and (month == 'Октябрь' or month == 'октябрь')) or (20 >= day >= 1 and (month == 'Ноябрь' or month == 'ноябрь')):\n",
    "        zodiac = 'Скорпион'\n",
    "    elif(21 <= day <= 31 and (month == 'Ноябрь' or month == 'ноябрь')) or (21 >= day >= 1 and (month == 'Декабрь' or month == 'декабрь')):\n",
    "        zodiac = 'Стрелец'\n",
    "    else:\n",
    "        print('Несуществующий месяц')\n",
    "    print('Ваш знак зодиака:', zodiac)"
   ]
  },
  {
   "cell_type": "markdown",
   "metadata": {},
   "source": [
    "Задание 4. \n",
    "Вам нужно написать программу для подбора упаковок по размерам товара. Размеры хранятся в переменных (в сантиметрах):\n",
    "\n",
    "width = 10\n",
    "length = 205\n",
    "height = 5\n",
    "Используйте следующие правила:\n",
    "\n",
    "если каждое из трех измерений менее 15 сантиметров, то выведите на экран “Коробка №1”;\n",
    "если хотя бы одно из измерений больше 15 сантиметров, но менее 50 сантиметров, то выводите “Коробка №2”;\n",
    "если длина товара больше 2 метров, то выводите “Упаковка для лыж”;\n",
    "во всех остальных случаях выводите “Стандартная коробка №3”."
   ]
  },
  {
   "cell_type": "code",
   "execution_count": 83,
   "metadata": {},
   "outputs": [
    {
     "name": "stdout",
     "output_type": "stream",
     "text": [
      "Введите ширину: 202\n",
      "Введите длину: 202\n",
      "Введите высоту: 202\n",
      "Упаковка для лыж\n"
     ]
    }
   ],
   "source": [
    "width = int(input('Введите ширину: '))\n",
    "length = int(input('Введите длину: '))\n",
    "height = int(input('Введите высоту: '))\n",
    "\n",
    "if width < 15 and length < 15 and height < 15:\n",
    "    print('Коробка №1')\n",
    "elif  15 < width < 50 or 15 < length < 50 or 15 < height < 50:\n",
    "    print('Коробка №2')\n",
    "elif height > 200:\n",
    "    print('Упаковка для лыж')\n",
    "else: \n",
    "    print('Стандартная коробка №3')"
   ]
  }
 ],
 "metadata": {
  "kernelspec": {
   "display_name": "Python 3",
   "language": "python",
   "name": "python3"
  },
  "language_info": {
   "codemirror_mode": {
    "name": "ipython",
    "version": 3
   },
   "file_extension": ".py",
   "mimetype": "text/x-python",
   "name": "python",
   "nbconvert_exporter": "python",
   "pygments_lexer": "ipython3",
   "version": "3.7.6"
  }
 },
 "nbformat": 4,
 "nbformat_minor": 4
}
