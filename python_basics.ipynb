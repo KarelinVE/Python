{
 "cells": [
  {
   "cell_type": "markdown",
   "metadata": {},
   "source": [
    "Задание 1. \n",
    "Даны 2 строки: long_phrase и short_phrase. Напишите код, который проверяет действительно ли длинная фраза \n",
    "long_phrase длиннее короткой short_phrase. И выводит True или False в зависимости от результата сравнения."
   ]
  },
  {
   "cell_type": "code",
   "execution_count": 3,
   "metadata": {},
   "outputs": [
    {
     "data": {
      "text/plain": [
       "False"
      ]
     },
     "execution_count": 3,
     "metadata": {},
     "output_type": "execute_result"
    }
   ],
   "source": [
    "long_phrase = 'Насколько проще было бы писать программы, если бы не заказчики'\n",
    "short_phrase = '640Кб должно хватить для любых задач. Билл Гейтс (по легенде)'\n",
    "\n",
    "len(long_phrase) < len(short_phrase)"
   ]
  },
  {
   "cell_type": "markdown",
   "metadata": {},
   "source": [
    "Задание 2. \n",
    "Дано значение объема файла в байтах (в мегабайте 2^20 байт). Напишите перевод этого значения в мегабайты в \n",
    "формате: \"Объем файла равен 213.68Mb\"."
   ]
  },
  {
   "cell_type": "code",
   "execution_count": 6,
   "metadata": {},
   "outputs": [
    {
     "name": "stdout",
     "output_type": "stream",
     "text": [
      "Объём файла в байтах: 224059719\n",
      "Объём файла равен 213.68 Mb\n"
     ]
    }
   ],
   "source": [
    "byte = int(input('Объём файла в байтах: '))\n",
    "mb = (round(byte / (2**20), 2))\n",
    "print('Объём файла равен', mb, 'Mb')"
   ]
  },
  {
   "cell_type": "markdown",
   "metadata": {},
   "source": [
    "Задание 3. \n",
    "Разработать приложение для определения знака зодиака по дате рождения. Пример:\n",
    "\n",
    "Введите месяц: март\n",
    "\n",
    "Введите число: 6\n",
    "\n",
    "Вывод: Рыбы"
   ]
  },
  {
   "cell_type": "code",
   "execution_count": 20,
   "metadata": {},
   "outputs": [
    {
     "name": "stdout",
     "output_type": "stream",
     "text": [
      "Введите месяц: март\n",
      "Введите число: 6\n",
      "Вывод: Рыбы\n"
     ]
    }
   ],
   "source": [
    "month = input('Введите месяц: ')\n",
    "day = int(input('Введите число: '))\n",
    "if day < 1 or day > 31:\n",
    "    print ('Вывод: Несуществующий день')\n",
    "else:\n",
    "    if (22 <= day <= 31 and (month == 'Декабрь' or month == 'декабрь')) or (19 >= day >= 1 and (month == 'Январь' or month == 'январь')):\n",
    "        zodiac = 'Козерог'\n",
    "    elif (20 <= day <= 31 and (month == 'Январь' or month == 'январь')) or (19 >= day >= 1 and (month == 'Февраль' or month == 'февраль')):\n",
    "        zodiac = 'Водолей'\n",
    "    elif (20 <= day <= 31 and (month == 'Февраль' or month == 'февраль')) or (21 >= day >= 1 and (month == 'Март' or month == 'март')):\n",
    "        zodiac = 'Рыбы'\n",
    "    elif (22 <= day <= 31 and (month == 'Март' or month == 'март')) or (21 >= day >= 1 and (month == 'Апрель' or month == 'апрель')):\n",
    "        zodiac = 'Овен'\n",
    "    elif (22 <= day <= 31 and (month == 'Апрель' or month == 'апрель')) or (21 >= day >= 1 and (month == 'Май' or month == 'май')):\n",
    "        zodiac = 'Телец'\n",
    "    elif (22 <= day <= 31 and (month == 'Май' or month == 'май')) or (21 >= day >= 1 and (month == 'Июнь' or month == 'июнь')):\n",
    "        zodiac = 'Близнецы'\n",
    "    elif (22 <= day <= 31 and (month == 'Июнь' or month == 'июнь')) or (21 >= day >= 1 and (month == 'Июль' or month == 'июль')):\n",
    "        zodiac = 'Рак'\n",
    "    elif (22 <= day <= 31 and (month == 'Июль' or month == 'июль')) or (21 >= day >= 1 and (month == 'Август' or month == 'август')):\n",
    "        zodiac = 'Лев'\n",
    "    elif (22 <= day <= 31 and (month == 'Август' or month == 'август')) or (21 >= day >= 1 and (month == 'Сентябрь' or month == 'сентябрь')):\n",
    "        zodiac = 'Дева'\n",
    "    elif (22 <= day <= 31 and (month == 'Сентябрь' or month == 'сентябрь')) or (21 >= day >= 1 and (month == 'Октябрь' or month == 'октябрь')):\n",
    "        zodiac = 'Весы'\n",
    "    elif (22 <= day <= 31 and (month == 'Октябрь' or month == 'октябрь')) or (20 >= day >= 1 and (month == 'Ноябрь' or month == 'ноябрь')):\n",
    "        zodiac = 'Скорпион'\n",
    "    elif (21 <= day <= 31 and (month == 'Ноябрь' or month == 'ноябрь')) or (21 >= day >= 1 and (month == 'Декабрь' or month == 'декабрь')):\n",
    "        zodiac = 'Стрелец'\n",
    "    else:\n",
    "        print('Несуществующий месяц')\n",
    "    print ('Вывод:', zodiac)"
   ]
  },
  {
   "cell_type": "markdown",
   "metadata": {},
   "source": [
    "Задание 4. \n",
    "Нужно разработать приложение для финансового планирования. Приложение учитывает сколько уходит на ипотеку, \"на жизнь\" и сколько нужно отложить на пенсию. Пользователь вводит:\n",
    "\n",
    "заработанную плату в месяц. сколько процентов от ЗП уходит на ипотеку. сколько процентов от ЗП уходит \"на жизнь\". сколько раз приходит премия в год. Остальная часть заработанной платы откладывается на пенсию.\n",
    "\n",
    "Также пользователю приходит премия в размере зарплаты, от которой половина уходит на отпуск, а вторая половина откладывается.\n",
    "\n",
    "Программа должна учитывать сколько премий было в год.\n",
    "\n",
    "Нужно вывести сколько денег тратит пользователь на ипотеку и сколько он накопит за год.\n",
    "\n",
    "Пример:\n",
    "\n",
    "Введите заработанную плату в месяц: 100000\n",
    "\n",
    "Введите сколько процентов уходит на ипотеку: 30\n",
    "\n",
    "Введите сколько процентов уходит на жизнь: 50\n",
    "\n",
    "Введите количество премий за год: 2\n",
    "\n",
    "Вывод: На ипотеку было потрачено: 360000 рублей Было накоплено: 340000 рублей"
   ]
  },
  {
   "cell_type": "code",
   "execution_count": 39,
   "metadata": {},
   "outputs": [
    {
     "name": "stdout",
     "output_type": "stream",
     "text": [
      "Введите количество месяцев для расчёта: 11\n",
      "Введите ежемесячную зарплату: 52200\n",
      "Проценты на ипотеку: 50\n",
      "Проценты на жизнь: 30\n",
      "Количество премий за период: 11\n",
      "Сумма одной премии: 17400\n",
      "За  11 месяцев на ипотеку потрачено 287100 рублей. Накоплено —  210540 рублей\n"
     ]
    }
   ],
   "source": [
    "period = int(input('Введите количество месяцев для расчёта: '))\n",
    "salary = int(input('Введите ежемесячную зарплату: '))\n",
    "mortgage = int(input('Проценты на ипотеку: '))\n",
    "for_life = int(input('Проценты на жизнь: '))\n",
    "bonus = int(input('Количество премий за период: '))\n",
    "bonus_amount = int(input('Сумма одной премии: '))\n",
    "count_mortgage = (salary * mortgage / 100)\n",
    "count_for_life = (salary * for_life / 100)\n",
    "saved_no_bonus = salary - (count_mortgage + count_for_life)\n",
    "saved_bonus = (bonus * bonus_amount / 2)\n",
    "vacation = (bonus * bonus_amount / 2)\n",
    "if period == 1:\n",
    "    print('За ', period, 'месяц на ипотеку потрачено', round (count_mortgage * period), 'рублей. Накоплено — ', \n",
    "          round (saved_no_bonus * period + saved_bonus), 'рублей')\n",
    "elif period == 2 or  period == 3 or period == 4:\n",
    "    print('За ', period, 'месяца на ипотеку потрачено', round (count_mortgage * period), 'рублей. Накоплено — ', \n",
    "          round (saved_no_bonus * period + saved_bonus), 'рублей')\n",
    "else:\n",
    "    print('За ', period, 'месяцев на ипотеку потрачено', round (count_mortgage * period), 'рублей. Накоплено — ', \n",
    "          round (saved_no_bonus * period + saved_bonus), 'рублей')"
   ]
  }
 ],
 "metadata": {
  "kernelspec": {
   "display_name": "Python 3",
   "language": "python",
   "name": "python3"
  },
  "language_info": {
   "codemirror_mode": {
    "name": "ipython",
    "version": 3
   },
   "file_extension": ".py",
   "mimetype": "text/x-python",
   "name": "python",
   "nbconvert_exporter": "python",
   "pygments_lexer": "ipython3",
   "version": "3.7.6"
  }
 },
 "nbformat": 4,
 "nbformat_minor": 4
}
