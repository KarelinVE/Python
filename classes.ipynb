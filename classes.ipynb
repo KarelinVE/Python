{
 "cells": [
  {
   "cell_type": "code",
   "execution_count": 567,
   "metadata": {},
   "outputs": [],
   "source": [
    "class Rate:\n",
    "    def __init__(self, format_='value', diff = True):\n",
    "        self.format = format_\n",
    "        self.diff = diff\n",
    "        \n",
    "    def exchange_rates(self):\n",
    "        self.r = requests.get('https://www.cbr-xml-daily.ru/daily_json.js')\n",
    "        return self.r.json()['Valute']\n",
    "    \n",
    "    def make_format(self, currency):\n",
    "        response = self.exchange_rates()\n",
    "        \n",
    "        if currency in response:\n",
    "            if self.format == 'full':\n",
    "                return response[currency]\n",
    "\n",
    "            if self.format == 'value' and self.diff == False:\n",
    "                return response[currency]['Value']\n",
    "\n",
    "            if self.format == 'value' and self.diff == True:\n",
    "                val_dif = response[currency]['Value'] - response[currency]['Previous']\n",
    "                return val_dif                \n",
    "                \n",
    "                return \n",
    "        \n",
    "        return 'Error'\n",
    "    \n",
    "        \n",
    "    def eur(self):\n",
    "        return self.make_format('EUR')\n",
    "    \n",
    "    def usd(self):\n",
    "        return self.make_format('USD')\n",
    "    \n",
    "    def brl(self):\n",
    "        return self.make_format('BRL')\n",
    "    \n",
    "    def get_max_cur(self):\n",
    "        self.exchange_rates()\n",
    "        max_rate = 0\n",
    "        max_rate_name = str\n",
    "        for el in self.r.json()['Valute'].items():\n",
    "            if el[1]['Value'] > max_rate:\n",
    "                max_rate = el[1]['Value']\n",
    "                max_rate_name = el[1]['Name'] \n",
    "        print(max_rate_name)"
   ]
  },
  {
   "cell_type": "code",
   "execution_count": 621,
   "metadata": {},
   "outputs": [
    {
     "name": "stdout",
     "output_type": "stream",
     "text": [
      "СДР (специальные права заимствования)\n"
     ]
    }
   ],
   "source": [
    "#Задание №1: вывод валюты с максимальным значением\n",
    "\n",
    "Rate().get_max_cur()"
   ]
  },
  {
   "cell_type": "code",
   "execution_count": 622,
   "metadata": {},
   "outputs": [
    {
     "data": {
      "text/plain": [
       "0.21630000000000038"
      ]
     },
     "execution_count": 622,
     "metadata": {},
     "output_type": "execute_result"
    }
   ],
   "source": [
    "#Задание №2: вывод информации о валюте\n",
    "\n",
    "Rate().make_format('BRL')"
   ]
  },
  {
   "cell_type": "code",
   "execution_count": 619,
   "metadata": {},
   "outputs": [],
   "source": [
    "class Designer:\n",
    "    def __init__(self, name, awards):\n",
    "        self.name = name\n",
    "        self.awards = 2        \n",
    "        self.grade = 1\n",
    "        self.points = self.awards * 2\n",
    "       \n",
    "    def grade_up(self):\n",
    "        print('\\nтекущий уровень -', self.grade)\n",
    "        self.grade += 1\n",
    "        print('новый уровень -',self.grade)\n",
    "    \n",
    "    def publish_grade(self):\n",
    "        print(self.name, 'имеет уровень', self.grade)\n",
    "    \n",
    "    def get_award(self):\n",
    "        self.awards += 1\n",
    "        self.points = self.awards * 2\n",
    "        next_grade = self.grade + 1 \n",
    "        print('количество наград -', self.awards)\n",
    "        print('количество очков -', self.points)\n",
    "        if next_grade * 7 > self.points >= self.grade * 7:\n",
    "            print (f'Количество очков - {self.points}, {self.name} повышен')\n",
    "            self.grade_up()\n",
    "            print ('')\n",
    "        return self.publish_grade()"
   ]
  },
  {
   "cell_type": "code",
   "execution_count": 620,
   "metadata": {},
   "outputs": [
    {
     "name": "stdout",
     "output_type": "stream",
     "text": [
      "количество наград - 3\n",
      "количество очков - 6\n",
      "Александр имеет уровень 1\n",
      "\n",
      "количество наград - 4\n",
      "количество очков - 8\n",
      "Количество очков - 8, Александр повышен\n",
      "\n",
      "текущий уровень - 1\n",
      "новый уровень - 2\n",
      "\n",
      "Александр имеет уровень 2\n",
      "\n",
      "количество наград - 5\n",
      "количество очков - 10\n",
      "Александр имеет уровень 2\n",
      "\n",
      "количество наград - 6\n",
      "количество очков - 12\n",
      "Александр имеет уровень 2\n",
      "\n",
      "количество наград - 7\n",
      "количество очков - 14\n",
      "Количество очков - 14, Александр повышен\n",
      "\n",
      "текущий уровень - 2\n",
      "новый уровень - 3\n",
      "\n",
      "Александр имеет уровень 3\n",
      "\n",
      "количество наград - 8\n",
      "количество очков - 16\n",
      "Александр имеет уровень 3\n",
      "\n",
      "количество наград - 9\n",
      "количество очков - 18\n",
      "Александр имеет уровень 3\n",
      "\n",
      "количество наград - 10\n",
      "количество очков - 20\n",
      "Александр имеет уровень 3\n",
      "\n",
      "количество наград - 11\n",
      "количество очков - 22\n",
      "Количество очков - 22, Александр повышен\n",
      "\n",
      "текущий уровень - 3\n",
      "новый уровень - 4\n",
      "\n",
      "Александр имеет уровень 4\n",
      "\n",
      "количество наград - 12\n",
      "количество очков - 24\n",
      "Александр имеет уровень 4\n",
      "\n"
     ]
    }
   ],
   "source": [
    "#Задание №3: учёт премий и повышение сотрудника\n",
    "\n",
    "Rate().make_format('BRL')alex = Designer ('Александр', 1)\n",
    "\n",
    "for i in range(10):\n",
    "    alex.get_award()\n",
    "    print('')"
   ]
  }
 ],
 "metadata": {
  "kernelspec": {
   "display_name": "Python 3",
   "language": "python",
   "name": "python3"
  },
  "language_info": {
   "codemirror_mode": {
    "name": "ipython",
    "version": 3
   },
   "file_extension": ".py",
   "mimetype": "text/x-python",
   "name": "python",
   "nbconvert_exporter": "python",
   "pygments_lexer": "ipython3",
   "version": "3.7.6"
  }
 },
 "nbformat": 4,
 "nbformat_minor": 4
}
