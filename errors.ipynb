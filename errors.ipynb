{
 "cells": [
  {
   "cell_type": "markdown",
   "metadata": {},
   "source": [
    "Задание 1\n",
    "\n",
    "Печатные газеты использовали свой формат дат для каждого выпуска. Для каждой газеты из списка напишите формат указанной даты для перевода в объект datetime:\n",
    "The Moscow Times - Wednesday, October 2, 2002\n",
    "The Guardian - Friday, 11.10.13\n",
    "Daily News - Thursday, 18 August 1977"
   ]
  },
  {
   "cell_type": "code",
   "execution_count": null,
   "metadata": {},
   "outputs": [],
   "source": [
    "from datetime import datetime\n",
    "\n",
    "def newspaper_date_format():\n",
    "    date = input('Введите дату: ')\n",
    "    newspaper = input('Введите название газеты: ')\n",
    "    newdate = datetime.strptime(date, '%d.%m.%Y')\n",
    "    if newspaper == 'The Moscow Times':\n",
    "        newspaperdate = datetime.strftime(newdate, '%A, %B %d, %Y')\n",
    "        print(f'The Moscow Times - {newspaperdate}')\n",
    "    elif newspaper == 'The Guardian':\n",
    "        newspaperdate = datetime.strftime(newdate, '%A, %d.%m.%Y')\n",
    "        print(f'The Guardian - {newspaperdate}')\n",
    "    elif newspaper == 'Daily News':\n",
    "        newspaperdate = datetime.strftime(newdate, '%A, %d %B %Y')\n",
    "        print(f'Daily News - {newspaperdate}')\n",
    "    else:\n",
    "        print('Такой газеты не существует')"
   ]
  },
  {
   "cell_type": "markdown",
   "metadata": {},
   "source": [
    "Задание 2\n",
    "\n",
    "Дан поток дат в формате YYYY-MM-DD, в которых встречаются некорректные значения:\n",
    "stream = ['2018-04-02', '2018-02-29', '2018-19-02']\n",
    "\n",
    "Напишите функцию, которая проверяет эти даты на корректность. Т. е. для каждой даты возвращает True (дата корректна) или False (некорректная дата)."
   ]
  },
  {
   "cell_type": "code",
   "execution_count": null,
   "metadata": {},
   "outputs": [],
   "source": [
    "from datetime import datetime\n",
    "\n",
    "def check_date_correct():\n",
    "    stream = ['2018-04-02', '2018-02-29', '2018-19-02']\n",
    "\n",
    "    for date in stream:\n",
    "        try:\n",
    "            datetime.strptime(date, '%Y-%m-%d')\n",
    "            print(date, True)\n",
    "        except ValueError:\n",
    "            print(date, False)"
   ]
  },
  {
   "cell_type": "markdown",
   "metadata": {},
   "source": [
    "Задание 3\n",
    "\n",
    "Напишите функцию date_range, которая возвращает список дат за период от start_date до end_date. Даты должны вводиться в формате YYYY-MM-DD. В случае неверного формата или при start_date > end_date должен возвращаться пустой список."
   ]
  },
  {
   "cell_type": "code",
   "execution_count": null,
   "metadata": {},
   "outputs": [],
   "source": [
    "from datetime import datetime\n",
    "from datetime import timedelta\n",
    "\n",
    "def list_of_dates():\n",
    "    start_date = input('Введите начальную дату: ')\n",
    "    end_date = input('Введите начальную дату: ')\n",
    "    date_list = []\n",
    "\n",
    "    try:\n",
    "        start_date_list = datetime.strptime(start_date, '%Y-%m-%d')\n",
    "        end_date_list = datetime.strptime(end_date, '%Y-%m-%d')\n",
    "\n",
    "        while start_date_list <= end_date_list:\n",
    "            if start_date_list not in date_list:\n",
    "                date_list.append(start_date_list)\n",
    "                start_date_list += timedelta(days = 1)\n",
    "        print(date_list)\n",
    "\n",
    "    except ValueError:\n",
    "        print(date_list)"
   ]
  },
  {
   "cell_type": "code",
   "execution_count": null,
   "metadata": {},
   "outputs": [],
   "source": [
    "newspaper_date_format()\n",
    "#check_date_correct()\n",
    "#list_of_dates()"
   ]
  }
 ],
 "metadata": {
  "kernelspec": {
   "display_name": "Python 3",
   "language": "python",
   "name": "python3"
  },
  "language_info": {
   "codemirror_mode": {
    "name": "ipython",
    "version": 3
   },
   "file_extension": ".py",
   "mimetype": "text/x-python",
   "name": "python",
   "nbconvert_exporter": "python",
   "pygments_lexer": "ipython3",
   "version": "3.7.6"
  }
 },
 "nbformat": 4,
 "nbformat_minor": 4
}
