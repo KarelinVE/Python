{
 "cells": [
  {
   "cell_type": "code",
   "execution_count": 1,
   "metadata": {},
   "outputs": [],
   "source": [
    "documents = [\n",
    "{'type': 'passport', 'number': '2207 876234', 'name': 'Василий Гупкин'},\n",
    "{'type': 'invoice', 'number': '11-2', 'name': 'Геннадий Покемонов'},\n",
    "{'type': 'insurance', 'number': '10006', 'name': 'Аристарх Павлов'}\n",
    "]\n",
    "\n",
    "directories = {\n",
    "'1': ['2207 876234', '11-2'],\n",
    "'2': ['10006'],\n",
    "'3': []\n",
    "}"
   ]
  },
  {
   "cell_type": "markdown",
   "metadata": {},
   "source": [
    "Пункт 1. Пользователь по команде \"p\" может узнать владельца документа по его номеру"
   ]
  },
  {
   "cell_type": "code",
   "execution_count": 2,
   "metadata": {},
   "outputs": [],
   "source": [
    "def p():\n",
    "    n = input('Введите номер документа: ')\n",
    "    for line in documents:\n",
    "        if n == line['number']:\n",
    "            print ('Владелец документа:', line['name'])\n",
    "            break\n",
    "    else: \n",
    "        print('Документ не найден в базе')"
   ]
  },
  {
   "cell_type": "markdown",
   "metadata": {},
   "source": [
    "Пункт 2. Пользователь по команде \"s\" может по номеру документа узнать на какой полке он хранится"
   ]
  },
  {
   "cell_type": "code",
   "execution_count": 3,
   "metadata": {},
   "outputs": [],
   "source": [
    "def s():\n",
    "    n = input('Введите номер документа: ')\n",
    "    for ln in directories.items():\n",
    "        if n in ln[1]:\n",
    "            print('Документ хранится на полке:', ln[0])\n",
    "            break\n",
    "    else: \n",
    "        print('Документ не найден в базе')"
   ]
  },
  {
   "cell_type": "markdown",
   "metadata": {},
   "source": [
    "Пункт 3. Пользователь по команде \"l\" может увидеть полную информацию по всем документам"
   ]
  },
  {
   "cell_type": "code",
   "execution_count": 4,
   "metadata": {},
   "outputs": [],
   "source": [
    "def l():\n",
    "    for line in documents: \n",
    "        for pair in directories.items(): \n",
    "            if line['number'] in pair[1]:\n",
    "                print(f\"№: {line['number']}, тип: {line['type']}, владелец: {line['name']}, полка хранения: {pair[0]}\")"
   ]
  },
  {
   "cell_type": "markdown",
   "metadata": {},
   "source": [
    "Пункт 4. Пользователь по команде \"ads\" может добавить новую полку"
   ]
  },
  {
   "cell_type": "code",
   "execution_count": 5,
   "metadata": {},
   "outputs": [],
   "source": [
    "shelves = []\n",
    "for el in directories:\n",
    "    if el not in shelves:\n",
    "        shelves.append(el)\n",
    "\n",
    "def ads():\n",
    "    s = input('Введите номер полки: ')\n",
    "    if s not in shelves:\n",
    "        shelves.append(s)\n",
    "        print(f\"Полка добавлена. Текущий перечень полок: {', '.join(shelves)}\")\n",
    "    else:\n",
    "        print(f\"Такая полка уже существует. Текущий перечень полок: {', '.join(shelves)}\")\n",
    "    "
   ]
  },
  {
   "cell_type": "markdown",
   "metadata": {},
   "source": [
    "Пункт 5. Пользователь по команде \"ds\" может удалить существующую полку из данных (только если она пустая)\n",
    "Примеры работы:\n",
    "\n",
    "1.\n",
    "\n",
    "Введите команду:\n",
    "ds\n",
    "\n",
    "Введите номер полки:\n",
    "3\n",
    "Результат:\n",
    "Полка удалена. Текущий перечень полок: 1, 2.\n",
    "\n",
    "2.\n",
    "\n",
    "Введите команду:\n",
    "ds\n",
    "\n",
    "Введите номер полки:\n",
    "1\n",
    "Результат:\n",
    "На полке есть документа, удалите их перед удалением полки. Текущий перечень полок: 1, 2, 3.\n",
    "\n",
    "3.\n",
    "\n",
    "Введите команду:\n",
    "ds\n",
    "\n",
    "Введите номер полки:\n",
    "4\n",
    "Результат:\n",
    "Такой полки не существует. Текущий перечень полок: 1, 2, 3."
   ]
  },
  {
   "cell_type": "code",
   "execution_count": 9,
   "metadata": {},
   "outputs": [
    {
     "name": "stdout",
     "output_type": "stream",
     "text": [
      "Введите номер полки: 1\n",
      "('1', ['2207 876234', '11-2'])\n",
      "Такой полки не существует. Текущий перечень полок: 2, 3\n",
      "('2', ['10006'])\n",
      "Такой полки не существует. Текущий перечень полок: 2, 3\n",
      "('3', [])\n",
      "Такой полки не существует. Текущий перечень полок: 2, 3\n"
     ]
    }
   ],
   "source": [
    "def ds():\n",
    "    s = input('Введите номер полки: ')\n",
    "    for line in directories.items():\n",
    "        print(line)\n",
    "        if s not in shelves:\n",
    "            print(f\"Такой полки не существует. Текущий перечень полок: {', '.join(shelves)}\")\n",
    "        elif s in shelves and s == line[0]: \n",
    "            shelves.remove(s)            \n",
    "            print(f\"Полка удалена. Текущий перечень полок: {', '.join(shelves)}\")\n",
    "            break\n",
    "        else:\n",
    "            print(f\"Такая полка уже существует. Текущий перечень полок: {', '.join(shelves)}\")\n",
    "\n",
    "ds()"
   ]
  }
 ],
 "metadata": {
  "kernelspec": {
   "display_name": "Python 3",
   "language": "python",
   "name": "python3"
  },
  "language_info": {
   "codemirror_mode": {
    "name": "ipython",
    "version": 3
   },
   "file_extension": ".py",
   "mimetype": "text/x-python",
   "name": "python",
   "nbconvert_exporter": "python",
   "pygments_lexer": "ipython3",
   "version": "3.7.6"
  }
 },
 "nbformat": 4,
 "nbformat_minor": 4
}
